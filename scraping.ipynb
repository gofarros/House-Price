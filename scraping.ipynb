{
 "cells": [
  {
   "cell_type": "code",
   "execution_count": null,
   "metadata": {},
   "outputs": [],
   "source": [
    "# Import libraries\n",
    "\n",
    "from selenium import webdriver\n",
    "from bs4 import BeautifulSoup\n",
    "from selenium import webdriver\n",
    "import pandas as pd\n",
    "import time"
   ]
  },
  {
   "cell_type": "code",
   "execution_count": null,
   "metadata": {},
   "outputs": [],
   "source": [
    "driver = webdriver.Chrome()\n",
    "df = pd.DataFrame()\n",
    "\n",
    "# Container\n",
    "Valuenama = [] \n",
    "ValueHarga = [] \n",
    "Valuelokasi = []\n",
    "Valueket = []\n",
    "Valuecic = []\n",
    "\n",
    "# Looping menarik value ke container\n",
    "for i in range(1,313):\n",
    "    url=f\"https://pashouses.id/rumah-dijual/area/{i}\"\n",
    "    driver.get(url)\n",
    "    html = driver.page_source\n",
    "    soup = BeautifulSoup(html, \"html.parser\")\n",
    "    time.sleep(2)\n",
    "\n",
    "    kuda = soup.find_all(\"div\",{\"class\":\"mt-2 p-4 flex flex-col justify-between h-[100%] font-primary w-full\"})\n",
    "\n",
    "    for x in kuda:\n",
    "        nama = x.find(\"h2\", {\"class\":\"font-normal text-sm mt-2\"})\n",
    "        if nama is not None:\n",
    "            Valuenama.append(nama.get_text())\n",
    "        else:\n",
    "            Valuenama.append(None)\n",
    "        \n",
    "        harga = x.find(\"span\", {\"class\":\"text-base mr-2 font-primary font-semibold text-primary ph-property-list__card-body__price mb-1\"})\n",
    "        if harga is not None:\n",
    "           ValueHarga.append(harga.get_text())\n",
    "        else:\n",
    "            ValueHarga.append(None)\n",
    "        \n",
    "        lokasi = x.find(\"p\", {\"class\":\"font-normal text-[14px] text-[#565757] my-2\"})\n",
    "        if lokasi is not None:\n",
    "           Valuelokasi.append(lokasi.get_text())\n",
    "        else:\n",
    "            Valuelokasi.append(None)\n",
    "             \n",
    "        luas_tanah = x.find(\"div\", {\"class\":\"flex flex-wrap items-center mb-1\"})\n",
    "        if luas_tanah is not None:\n",
    "            Valueket.append(luas_tanah.get_text())\n",
    "        else:\n",
    "            Valueket.append(None)\n",
    "\n",
    "        cicilan = x.find(\"p\", {\"class\":\"text-xs mt-2 text-[#565757]\"})\n",
    "        if cicilan is not None:\n",
    "            Valuecic.append(cicilan.get_text())\n",
    "        else:\n",
    "            Valuecic.append(None)\n",
    "\n",
    "\n",
    "# Masukkan value ke kolom dataframe        \n",
    "df['Nama Rumah'] = Valuenama\n",
    "df['Harga'] = ValueHarga\n",
    "df['Cicilan'] = Valuecic\n",
    "df['Lokasi'] = Valuelokasi\n",
    "df['Keterangan'] = Valueket"
   ]
  },
  {
   "cell_type": "code",
   "execution_count": null,
   "metadata": {},
   "outputs": [],
   "source": [
    "df.to_csv('data_scraped.csv', index=False)"
   ]
  }
 ],
 "metadata": {
  "kernelspec": {
   "display_name": "base",
   "language": "python",
   "name": "python3"
  },
  "language_info": {
   "codemirror_mode": {
    "name": "ipython",
    "version": 3
   },
   "file_extension": ".py",
   "mimetype": "text/x-python",
   "name": "python",
   "nbconvert_exporter": "python",
   "pygments_lexer": "ipython3",
   "version": "3.12.3"
  }
 },
 "nbformat": 4,
 "nbformat_minor": 2
}
